{
 "cells": [
  {
   "cell_type": "code",
   "execution_count": 1,
   "id": "4016e6c9",
   "metadata": {},
   "outputs": [
    {
     "name": "stdout",
     "output_type": "stream",
     "text": [
      "Who are you? Admin or User: admin\n",
      "Enter food item: Tandoori Chicken\n",
      "Enter food item: Vegan Burger\n",
      "Enter food item: Truffle Cake\n",
      "{101: 'Tandoori Chicken', 102: 'Vegan Burger', 103: 'Truffle Cake'}\n"
     ]
    }
   ],
   "source": [
    "# Admin Functions\n",
    "inp1 = input('Who are you? Admin or User: ').lower()\n",
    "food_list = {}\n",
    "food_id = 101\n",
    "if inp1 == 'admin':\n",
    "    for i in range (3):\n",
    "        inp2 = input('Enter food item: ')\n",
    "        food_list[food_id] = inp2\n",
    "        food_id += 1\n",
    "    print(food_list) "
   ]
  },
  {
   "cell_type": "code",
   "execution_count": 19,
   "id": "51ad4b1f",
   "metadata": {},
   "outputs": [
    {
     "name": "stdout",
     "output_type": "stream",
     "text": [
      "{101: 20, 102: 25, 103: 5}\n"
     ]
    }
   ],
   "source": [
    "# Stock Checking through Food Id \n",
    "stock_list = {}\n",
    "count2 = 101\n",
    "for i in range (3):\n",
    "    if count2 == 101:\n",
    "        stock_list[count2] = 20 # 20 pcs of Tandoori Chicken is present in the Stock\n",
    "    elif count2 == 102:\n",
    "        stock_list[count2] = 25 # 25 pcs of Vegan burger is present in the stock\n",
    "    elif count2 == 103:\n",
    "        stock_list[count2] = 5 # % kg of Truffle Cake is present in the stock\n",
    "    count2 += 1\n",
    "print(stock_list)\n",
    "    "
   ]
  },
  {
   "cell_type": "code",
   "execution_count": 18,
   "id": "c71eed78",
   "metadata": {},
   "outputs": [
    {
     "data": {
      "text/plain": [
       "'20 pcs'"
      ]
     },
     "execution_count": 18,
     "metadata": {},
     "output_type": "execute_result"
    }
   ],
   "source": [
    "stock_list[101]"
   ]
  },
  {
   "cell_type": "code",
   "execution_count": 3,
   "id": "fa37429c",
   "metadata": {},
   "outputs": [
    {
     "name": "stdout",
     "output_type": "stream",
     "text": [
      "{101: 'Rs. 240 per 4 pcs', 102: 'Rs. 320 per 1 pc', 103: 'Rs. 900 per 500 gm'}\n"
     ]
    }
   ],
   "source": [
    "# Price Checking through Food Id\n",
    "price_list = {}\n",
    "count3 = 101\n",
    "for i in range (3):\n",
    "    if count3 == 101:\n",
    "        price_list[count3] = 'Rs. 240 per 4 pcs' # Price of Tandoori Chicken per 4 pieces\n",
    "    elif count3 == 102:\n",
    "        price_list[count3] = 'Rs. 320 per 1 pc' # Price of Vegan Burger per piece\n",
    "    elif count3 == 103:\n",
    "        price_list[count3] = 'Rs. 900 per 500 gm' # Price of Truffle Cake per 500 gm\n",
    "    count3 += 1\n",
    "print(price_list)"
   ]
  },
  {
   "cell_type": "code",
   "execution_count": 4,
   "id": "0236d307",
   "metadata": {},
   "outputs": [
    {
     "name": "stdout",
     "output_type": "stream",
     "text": [
      "Who are you? Admin or User: user\n",
      "Register yourself please.....\n",
      "Enter your Name: Rishab Kumar\n",
      "Enter your Email: rishab123@gmail.com\n",
      "Enter your Address: 34, King Street Canada:34\n",
      "Please create a password: Kumar34\n",
      "Your password should contain atleat one Capital letter, one small letter and a number....\n",
      "{'Name': 'Rishab Kumar', 'Email_ID': 'rishab123@gmail.com', 'Address': '34, King Street Canada:34', 'Password': 'Kumar34'}\n"
     ]
    }
   ],
   "source": [
    "# User Registration \n",
    "import re\n",
    "profile_details = {}\n",
    "inp1 = input('Who are you? Admin or User: ').lower()\n",
    "if inp1 == 'user':\n",
    "    print(\"Register yourself please.....\")\n",
    "    name = input('Enter your Name: ')\n",
    "    profile_details['Name'] = name\n",
    "    email = input('Enter your Email: ')\n",
    "    profile_details['Email_ID'] = email\n",
    "    address = input('Enter your Address: ')\n",
    "    profile_details['Address'] = address\n",
    "    password = input('Please create a password: ')\n",
    "    profile_details['Password'] = password\n",
    "    regex = '^[A-Za-z0-9]'\n",
    "    if re.match(regex,password) == True:\n",
    "        print('Password Accepted')\n",
    "    else:\n",
    "        print('Your password should contain atleat one Capital letter, one small letter and a number....')\n",
    "print(profile_details)"
   ]
  },
  {
   "cell_type": "code",
   "execution_count": 5,
   "id": "c09268ac",
   "metadata": {},
   "outputs": [
    {
     "name": "stdout",
     "output_type": "stream",
     "text": [
      "Update your Name: Rishab Singh\n",
      "Update your Email: rishab123@gmail.com\n",
      "Update your Address: 34, King Street Canada: 56\n",
      "Update your password: Singh34\n",
      "Your password should contain atleat one Capital letter, one small letter and a number....\n",
      "Your updated profile details are  {'Name': 'Rishab Singh', 'Email_ID': 'rishab123@gmail.com', 'Address': '34, King Street Canada: 56', 'Password': 'Singh34'}\n"
     ]
    }
   ],
   "source": [
    "# Updating Profile \n",
    "name = input('Update your Name: ')\n",
    "profile_details['Name'] = name\n",
    "email = input('Update your Email: ')\n",
    "profile_details['Email_ID'] = email\n",
    "address = input('Update your Address: ')\n",
    "profile_details['Address'] = address\n",
    "password = input('Update your password: ')\n",
    "profile_details['Password'] = password\n",
    "regex = '^[A-Za-z0-9]'\n",
    "if re.match(regex,password) == True:\n",
    "    print('Password Accepted')\n",
    "else:\n",
    "    print('Your password should contain atleat one Capital letter, one small letter and a number....')\n",
    "print('Your updated profile details are ',profile_details)"
   ]
  },
  {
   "cell_type": "code",
   "execution_count": 7,
   "id": "e813c285",
   "metadata": {},
   "outputs": [
    {
     "name": "stdout",
     "output_type": "stream",
     "text": [
      "Enter number of items you want: 2\n",
      "Enter item name: Tandoori Chicken\n",
      "Enter item quantity: 4\n",
      "Enter item name: Vegan Burger\n",
      "Enter item quantity: 1\n",
      "{'Tandoori Chicken': 4, 'Vegan Burger': 1}\n",
      "['Tandoori Chicken', 'Vegan Burger']\n",
      "[4, 1]\n"
     ]
    }
   ],
   "source": [
    "# Placing Order\n",
    "order_list = {}\n",
    "item_list = []\n",
    "quantity_list = []\n",
    "total_item = int(input('Enter number of items you want: '))\n",
    "for i in range (total_item):\n",
    "    item_name = input('Enter item name: ')\n",
    "    item_quantity = int(input('Enter item quantity: '))\n",
    "    item_list.append(item_name)\n",
    "    quantity_list.append(item_quantity)\n",
    "    order_list[item_name] = item_quantity\n",
    "print(order_list)\n",
    "print(item_list)\n",
    "print(quantity_list)"
   ]
  },
  {
   "cell_type": "code",
   "execution_count": 22,
   "id": "17a8d463",
   "metadata": {},
   "outputs": [
    {
     "name": "stdout",
     "output_type": "stream",
     "text": [
      "Your total bill after 10% discount is Rs. 504.0\n",
      "Hope you liked our services well, See you soon!!!\n"
     ]
    }
   ],
   "source": [
    "# Bill Details\n",
    "total_price = 0\n",
    "for i in range (len(item_list)):\n",
    "    if item_list[i] == 'Tandoori Chicken':\n",
    "        price = order_list['Tandoori Chicken']*60\n",
    "    elif item_list[i] == 'Vegan Burger':\n",
    "        price = order_list['Vegan Burger']*320\n",
    "    elif item_list[i] == 'Truffle Cake':\n",
    "        price =order_list['Truffle Cake']*1.8\n",
    "    total_price = total_price + price\n",
    "print('Your total bill after 10% discount is Rs.',total_price*0.9)\n",
    "print('Hope you liked our services well, See you soon!!!')"
   ]
  },
  {
   "cell_type": "code",
   "execution_count": 21,
   "id": "9e164499",
   "metadata": {},
   "outputs": [
    {
     "name": "stdout",
     "output_type": "stream",
     "text": [
      "{101: 20, 102: 25, 103: 5}\n",
      "Updated Stock List is  {101: 16, 102: 19}\n"
     ]
    }
   ],
   "source": [
    "# Updating Stocks\n",
    "print(stock_list)\n",
    "count4 = 101\n",
    "updated_stock = {}\n",
    "for i in range (len(quantity_list)):\n",
    "    updated_stock[count4] = stock_list[101] - quantity_list[i]\n",
    "    count4 += 1\n",
    "print('Updated Stock List is ',updated_stock)"
   ]
  },
  {
   "cell_type": "code",
   "execution_count": null,
   "id": "865cef9f",
   "metadata": {},
   "outputs": [],
   "source": []
  },
  {
   "cell_type": "code",
   "execution_count": null,
   "id": "b0b6df69",
   "metadata": {},
   "outputs": [],
   "source": []
  }
 ],
 "metadata": {
  "kernelspec": {
   "display_name": "Python 3 (ipykernel)",
   "language": "python",
   "name": "python3"
  },
  "language_info": {
   "codemirror_mode": {
    "name": "ipython",
    "version": 3
   },
   "file_extension": ".py",
   "mimetype": "text/x-python",
   "name": "python",
   "nbconvert_exporter": "python",
   "pygments_lexer": "ipython3",
   "version": "3.9.7"
  }
 },
 "nbformat": 4,
 "nbformat_minor": 5
}
